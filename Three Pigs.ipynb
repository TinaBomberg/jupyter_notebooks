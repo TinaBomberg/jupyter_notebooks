{
 "cells": [
  {
   "cell_type": "markdown",
   "metadata": {},
   "source": [
    "# Design a Super-Lame Video Game\n",
    "\n",
    "## Three Little Pigs\n",
    "\n",
    "Business Requirements:\n",
    "* Must recognize three house types:\n",
    "    * Straw\n",
    "    * Stick\n",
    "    * Brick\n",
    "* Must recognize three wolf types:\n",
    "    * Young Wolf\n",
    "        * can blow down Straw and Stick\n",
    "    * Old Wolf\n",
    "        * can blow down Straw\n",
    "    * COPD Wolf (from the commercials)\n",
    "        * cannot blow down anything\n",
    "* Must have player make decisions on house with text input\n",
    "* Must randomly pick a wolf each round\n",
    "* Must reward players who make decision to have weaker house per turn\n",
    "* Player scores points for each round house is up\n",
    "* Add random event for Earthquake:\n",
    "    * Straw survives\n",
    "    * Stick survives\n",
    "    * Brick is demolished\n",
    "* Have user hit enter to start each round\n",
    "* Output events and outcome for each round in text\n",
    "\n",
    "\n",
    "    "
   ]
  },
  {
   "cell_type": "code",
   "execution_count": 21,
   "metadata": {},
   "outputs": [
    {
     "name": "stdout",
     "output_type": "stream",
     "text": [
      "3\n"
     ]
    }
   ],
   "source": [
    "from random import randrange\n",
    "print(randrange(10))"
   ]
  },
  {
   "cell_type": "code",
   "execution_count": 36,
   "metadata": {
    "scrolled": true
   },
   "outputs": [
    {
     "name": "stdout",
     "output_type": "stream",
     "text": [
      "2\n",
      "0\n",
      "0\n",
      "0\n",
      "1\n",
      "1\n",
      "0\n",
      "1\n",
      "2\n",
      "0\n",
      "1\n",
      "2\n",
      "0\n",
      "1\n",
      "1\n",
      "2\n",
      "1\n",
      "0\n",
      "2\n",
      "1\n",
      "0\n",
      "0\n",
      "0\n",
      "0\n",
      "1\n"
     ]
    }
   ],
   "source": [
    "for ea in range(25):\n",
    "    print(randrange(3))"
   ]
  },
  {
   "cell_type": "code",
   "execution_count": 30,
   "metadata": {},
   "outputs": [
    {
     "name": "stdout",
     "output_type": "stream",
     "text": [
      "Please select a house to build: Straw, Stick or Brick   stick\n"
     ]
    }
   ],
   "source": [
    "pigs_house = input('Please select a house to build: Straw, Stick or Brick   ')\n",
    "\n",
    "while pigs_house.lower() not in ['straw', 'stick', 'brick']:\n",
    "    if pigs_house.lower() not in ['straw', 'stick', 'brick']:\n",
    "        print('Not valid, please try again')\n",
    "    pigs_house = input('Please select a house to build: Straw, Stick or Brick   ')\n",
    "\n"
   ]
  },
  {
   "cell_type": "code",
   "execution_count": 2,
   "metadata": {},
   "outputs": [],
   "source": [
    "player_score = 0"
   ]
  },
  {
   "cell_type": "code",
   "execution_count": 9,
   "metadata": {},
   "outputs": [],
   "source": [
    "wolves = {\n",
    "    'young': 6,\n",
    "    'old': 3,\n",
    "    'copd': 0\n",
    "}\n",
    "\n",
    "houses = {\n",
    "    'straw':1,\n",
    "    'stick':4,\n",
    "    'brick':7\n",
    "}"
   ]
  },
  {
   "cell_type": "code",
   "execution_count": 10,
   "metadata": {},
   "outputs": [
    {
     "data": {
      "text/plain": [
       "{'young': 6, 'old': 3, 'copd': 0}"
      ]
     },
     "execution_count": 10,
     "metadata": {},
     "output_type": "execute_result"
    }
   ],
   "source": [
    "wolves"
   ]
  },
  {
   "cell_type": "code",
   "execution_count": 11,
   "metadata": {},
   "outputs": [],
   "source": [
    "house_up = True"
   ]
  },
  {
   "cell_type": "code",
   "execution_count": 12,
   "metadata": {},
   "outputs": [],
   "source": [
    "house_points = {\n",
    "    'straw':4,\n",
    "    'stick':2,\n",
    "    'brick':1\n",
    "}"
   ]
  },
  {
   "cell_type": "code",
   "execution_count": 20,
   "metadata": {},
   "outputs": [
    {
     "name": "stdout",
     "output_type": "stream",
     "text": [
      "house is still up\n"
     ]
    }
   ],
   "source": [
    "i = 1\n",
    "\n",
    "while house_up:\n",
    "    input ('Ready for Round ', i)\n",
    "    \n",
    "    \n",
    "\n",
    "    if wolves['old'] > houses['stick']:\n",
    "        house_up = False\n",
    "        print('house is blown down')\n",
    "    else:\n",
    "        print('house is still up')"
   ]
  },
  {
   "cell_type": "code",
   "execution_count": null,
   "metadata": {},
   "outputs": [],
   "source": []
  }
 ],
 "metadata": {
  "kernelspec": {
   "display_name": "Python 3",
   "language": "python",
   "name": "python3"
  },
  "language_info": {
   "codemirror_mode": {
    "name": "ipython",
    "version": 3
   },
   "file_extension": ".py",
   "mimetype": "text/x-python",
   "name": "python",
   "nbconvert_exporter": "python",
   "pygments_lexer": "ipython3",
   "version": "3.7.6"
  }
 },
 "nbformat": 4,
 "nbformat_minor": 4
}
